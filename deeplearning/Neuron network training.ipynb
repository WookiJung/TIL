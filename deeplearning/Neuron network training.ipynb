{
 "cells": [
  {
   "cell_type": "code",
   "execution_count": 5,
   "metadata": {},
   "outputs": [],
   "source": [
    "import numpy as np\n",
    "\n",
    "def sum_squares_error(y,t):\n",
    "    return 0.5* np.sum((y-t)**2)"
   ]
  },
  {
   "cell_type": "code",
   "execution_count": 8,
   "metadata": {},
   "outputs": [],
   "source": [
    "t = np.array([0,0,1,0,0,0,0,0,0,0])"
   ]
  },
  {
   "cell_type": "code",
   "execution_count": 9,
   "metadata": {},
   "outputs": [
    {
     "data": {
      "text/plain": [
       "0.09750000000000003"
      ]
     },
     "execution_count": 9,
     "metadata": {},
     "output_type": "execute_result"
    }
   ],
   "source": [
    "y = np.array([0.1, 0.05, 0.6, 0, 0.05, 0.1, 0, 0.1, 0, 0])\n",
    "sum_squares_error(y,t)"
   ]
  },
  {
   "cell_type": "code",
   "execution_count": 10,
   "metadata": {},
   "outputs": [
    {
     "data": {
      "text/plain": [
       "array([0.005  , 0.00125, 0.08   , 0.     , 0.00125, 0.005  , 0.     ,\n",
       "       0.005  , 0.     , 0.     ])"
      ]
     },
     "execution_count": 10,
     "metadata": {},
     "output_type": "execute_result"
    }
   ],
   "source": [
    "0.5*(y-t)**2"
   ]
  },
  {
   "cell_type": "code",
   "execution_count": 11,
   "metadata": {},
   "outputs": [
    {
     "data": {
      "text/plain": [
       "0.5975"
      ]
     },
     "execution_count": 11,
     "metadata": {},
     "output_type": "execute_result"
    }
   ],
   "source": [
    "y= np.array([0.1, 0.05, 0.1, 0, 0.05, 0.1, 0, 0.6,0, 0])\n",
    "sum_squares_error(y,t)"
   ]
  },
  {
   "cell_type": "code",
   "execution_count": 12,
   "metadata": {},
   "outputs": [
    {
     "data": {
      "text/plain": [
       "array([0.005  , 0.00125, 0.405  , 0.     , 0.00125, 0.005  , 0.     ,\n",
       "       0.18   , 0.     , 0.     ])"
      ]
     },
     "execution_count": 12,
     "metadata": {},
     "output_type": "execute_result"
    }
   ],
   "source": [
    "0.5*(y-t)**2"
   ]
  },
  {
   "cell_type": "code",
   "execution_count": 17,
   "metadata": {},
   "outputs": [
    {
     "data": {
      "image/png": "[encoded data removed]",
      "text/plain": [
       "<Figure size 432x288 with 1 Axes>"
      ]
     },
     "metadata": {
      "needs_background": "light"
     },
     "output_type": "display_data"
    }
   ],
   "source": [
    "import matplotlib.pyplot as plt\n",
    "\n",
    "x = np.arange(0+1e-7,1,0.002)\n",
    "y = -(np.log(x))\n",
    "\n",
    "plt.plot(x, y)\n",
    "plt.xlabel(\"x\")\n",
    "plt.ylabel(\"y\")\n",
    "plt.show()"
   ]
  },
  {
   "cell_type": "code",
   "execution_count": 42,
   "metadata": {},
   "outputs": [],
   "source": [
    "def numerical_gradient(f,x):\n",
    "    h = 1e-4\n",
    "    grad = np.zeros_like(x)\n",
    "    for idx in range(x.size):\n",
    "        tmp_val = x[idx]\n",
    "        x[idx] = tmp_val + h\n",
    "        fxh1 = f(x)\n",
    "        \n",
    "        x[idx]= tmp_val -h\n",
    "        fxh2 = f(x)\n",
    "        \n",
    "        grad[idx] = (fxh1-fxh2)/ (2*h)\n",
    "        x[idx] = tmp_val\n",
    "    return grad\n",
    "\n",
    "road = []\n",
    "def gradient_descent(f, init_x, lr=0.01, step_num=100):\n",
    "    x = init_x\n",
    "    for i in range(step_num):\n",
    "        grad =numerical_gradient(f,x)\n",
    "        x -= lr*grad\n",
    "        road.append((x[0],x[1],f(x)))\n",
    "\n",
    "    return x"
   ]
  },
  {
   "cell_type": "code",
   "execution_count": 43,
   "metadata": {},
   "outputs": [
    {
     "data": {
      "text/plain": [
       "array([-6.11110793e-10,  8.14814391e-10])"
      ]
     },
     "execution_count": 43,
     "metadata": {},
     "output_type": "execute_result"
    }
   ],
   "source": [
    "def function_2(x):\n",
    "    return x[0]**2 + x[1]**2\n",
    "\n",
    "init_x = np.array([-3.0, 4.0])\n",
    "gradient_descent(function_2, init_x = init_x, lr=0.1, step_num = 100)"
   ]
  },
  {
   "cell_type": "code",
   "execution_count": 44,
   "metadata": {},
   "outputs": [
    {
     "data": {
      "text/plain": [
       "array([[-2.40000000e+00,  3.20000000e+00,  1.60000000e+01],\n",
       "       [-1.92000000e+00,  2.56000000e+00,  1.02400000e+01],\n",
       "       [-1.53600000e+00,  2.04800000e+00,  6.55360000e+00],\n",
       "       [-1.22880000e+00,  1.63840000e+00,  4.19430400e+00],\n",
       "       [-9.83040000e-01,  1.31072000e+00,  2.68435456e+00],\n",
       "       [-7.86432000e-01,  1.04857600e+00,  1.71798692e+00],\n",
       "       [-6.29145600e-01,  8.38860800e-01,  1.09951163e+00],\n",
       "       [-5.03316480e-01,  6.71088640e-01,  7.03687442e-01],\n",
       "       [-4.02653184e-01,  5.36870912e-01,  4.50359963e-01],\n",
       "       [-3.22122547e-01,  4.29496730e-01,  2.88230376e-01],\n",
       "       [-2.57698038e-01,  3.43597384e-01,  1.84467441e-01],\n",
       "       [-2.06158430e-01,  2.74877907e-01,  1.18059162e-01],\n",
       "       [-1.64926744e-01,  2.19902326e-01,  7.55578637e-02],\n",
       "       [-1.31941395e-01,  1.75921860e-01,  4.83570328e-02],\n",
       "       [-1.05553116e-01,  1.40737488e-01,  3.09485010e-02],\n",
       "       [-8.44424930e-02,  1.12589991e-01,  1.98070406e-02],\n",
       "       [-6.75539944e-02,  9.00719925e-02,  1.26765060e-02],\n",
       "       [-5.40431955e-02,  7.20575940e-02,  8.11296384e-03],\n",
       "       [-4.32345564e-02,  5.76460752e-02,  5.19229686e-03],\n",
       "       [-3.45876451e-02,  4.61168602e-02,  3.32306999e-03],\n",
       "       [-2.76701161e-02,  3.68934881e-02,  2.12676479e-03],\n",
       "       [-2.21360929e-02,  2.95147905e-02,  1.36112947e-03],\n",
       "       [-1.77088743e-02,  2.36118324e-02,  8.71122859e-04],\n",
       "       [-1.41670994e-02,  1.88894659e-02,  5.57518630e-04],\n",
       "       [-1.13336796e-02,  1.51115727e-02,  3.56811923e-04],\n",
       "       [-9.06694365e-03,  1.20892582e-02,  2.28359631e-04],\n",
       "       [-7.25355492e-03,  9.67140656e-03,  1.46150164e-04],\n",
       "       [-5.80284393e-03,  7.73712525e-03,  9.35361048e-05],\n",
       "       [-4.64227515e-03,  6.18970020e-03,  5.98631071e-05],\n",
       "       [-3.71382012e-03,  4.95176016e-03,  3.83123885e-05],\n",
       "       [-2.97105609e-03,  3.96140813e-03,  2.45199287e-05],\n",
       "       [-2.37684488e-03,  3.16912650e-03,  1.56927543e-05],\n",
       "       [-1.90147590e-03,  2.53530120e-03,  1.00433628e-05],\n",
       "       [-1.52118072e-03,  2.02824096e-03,  6.42775218e-06],\n",
       "       [-1.21694458e-03,  1.62259277e-03,  4.11376139e-06],\n",
       "       [-9.73555661e-04,  1.29807421e-03,  2.63280729e-06],\n",
       "       [-7.78844529e-04,  1.03845937e-03,  1.68499667e-06],\n",
       "       [-6.23075623e-04,  8.30767497e-04,  1.07839787e-06],\n",
       "       [-4.98460498e-04,  6.64613998e-04,  6.90174635e-07],\n",
       "       [-3.98768399e-04,  5.31691198e-04,  4.41711766e-07],\n",
       "       [-3.19014719e-04,  4.25352959e-04,  2.82695530e-07],\n",
       "       [-2.55211775e-04,  3.40282367e-04,  1.80925139e-07],\n",
       "       [-2.04169420e-04,  2.72225894e-04,  1.15792089e-07],\n",
       "       [-1.63335536e-04,  2.17780715e-04,  7.41069371e-08],\n",
       "       [-1.30668429e-04,  1.74224572e-04,  4.74284398e-08],\n",
       "       [-1.04534743e-04,  1.39379657e-04,  3.03542014e-08],\n",
       "       [-8.36277945e-05,  1.11503726e-04,  1.94266889e-08],\n",
       "       [-6.69022356e-05,  8.92029808e-05,  1.24330809e-08],\n",
       "       [-5.35217885e-05,  7.13623846e-05,  7.95717178e-09],\n",
       "       [-4.28174308e-05,  5.70899077e-05,  5.09258994e-09],\n",
       "       [-3.42539446e-05,  4.56719262e-05,  3.25925756e-09],\n",
       "       [-2.74031557e-05,  3.65375409e-05,  2.08592484e-09],\n",
       "       [-2.19225246e-05,  2.92300327e-05,  1.33499190e-09],\n",
       "       [-1.75380196e-05,  2.33840262e-05,  8.54394814e-10],\n",
       "       [-1.40304157e-05,  1.87072210e-05,  5.46812681e-10],\n",
       "       [-1.12243326e-05,  1.49657768e-05,  3.49960116e-10],\n",
       "       [-8.97946606e-06,  1.19726214e-05,  2.23974474e-10],\n",
       "       [-7.18357285e-06,  9.57809713e-06,  1.43343663e-10],\n",
       "       [-5.74685828e-06,  7.66247770e-06,  9.17399446e-11],\n",
       "       [-4.59748662e-06,  6.12998216e-06,  5.87135646e-11],\n",
       "       [-3.67798930e-06,  4.90398573e-06,  3.75766813e-11],\n",
       "       [-2.94239144e-06,  3.92318858e-06,  2.40490760e-11],\n",
       "       [-2.35391315e-06,  3.13855087e-06,  1.53914087e-11],\n",
       "       [-1.88313052e-06,  2.51084069e-06,  9.85050155e-12],\n",
       "       [-1.50650442e-06,  2.00867256e-06,  6.30432099e-12],\n",
       "       [-1.20520353e-06,  1.60693804e-06,  4.03476543e-12],\n",
       "       [-9.64162827e-07,  1.28555044e-06,  2.58224988e-12],\n",
       "       [-7.71330261e-07,  1.02844035e-06,  1.65263992e-12],\n",
       "       [-6.17064209e-07,  8.22752279e-07,  1.05768955e-12],\n",
       "       [-4.93651367e-07,  6.58201823e-07,  6.76921312e-13],\n",
       "       [-3.94921094e-07,  5.26561458e-07,  4.33229640e-13],\n",
       "       [-3.15936875e-07,  4.21249167e-07,  2.77266969e-13],\n",
       "       [-2.52749500e-07,  3.36999333e-07,  1.77450860e-13],\n",
       "       [-2.02199600e-07,  2.69599467e-07,  1.13568551e-13],\n",
       "       [-1.61759680e-07,  2.15679573e-07,  7.26838724e-14],\n",
       "       [-1.29407744e-07,  1.72543659e-07,  4.65176784e-14],\n",
       "       [-1.03526195e-07,  1.38034927e-07,  2.97713141e-14],\n",
       "       [-8.28209562e-08,  1.10427942e-07,  1.90536411e-14],\n",
       "       [-6.62567649e-08,  8.83423532e-08,  1.21943303e-14],\n",
       "       [-5.30054119e-08,  7.06738826e-08,  7.80437138e-15],\n",
       "       [-4.24043296e-08,  5.65391061e-08,  4.99479768e-15],\n",
       "       [-3.39234636e-08,  4.52312849e-08,  3.19667052e-15],\n",
       "       [-2.71387709e-08,  3.61850279e-08,  2.04586913e-15],\n",
       "       [-2.17110167e-08,  2.89480223e-08,  1.30935624e-15],\n",
       "       [-1.73688134e-08,  2.31584178e-08,  8.37987996e-16],\n",
       "       [-1.38950507e-08,  1.85267343e-08,  5.36312317e-16],\n",
       "       [-1.11160406e-08,  1.48213874e-08,  3.43239883e-16],\n",
       "       [-8.89283245e-09,  1.18571099e-08,  2.19673525e-16],\n",
       "       [-7.11426596e-09,  9.48568795e-09,  1.40591056e-16],\n",
       "       [-5.69141277e-09,  7.58855036e-09,  8.99782759e-17],\n",
       "       [-4.55313022e-09,  6.07084029e-09,  5.75860966e-17],\n",
       "       [-3.64250417e-09,  4.85667223e-09,  3.68551018e-17],\n",
       "       [-2.91400334e-09,  3.88533778e-09,  2.35872652e-17],\n",
       "       [-2.33120267e-09,  3.10827023e-09,  1.50958497e-17],\n",
       "       [-1.86496214e-09,  2.48661618e-09,  9.66134381e-18],\n",
       "       [-1.49196971e-09,  1.98929295e-09,  6.18326004e-18],\n",
       "       [-1.19357577e-09,  1.59143436e-09,  3.95728642e-18],\n",
       "       [-9.54860614e-10,  1.27314749e-09,  2.53266331e-18],\n",
       "       [-7.63888491e-10,  1.01851799e-09,  1.62090452e-18],\n",
       "       [-6.11110793e-10,  8.14814391e-10,  1.03737889e-18]])"
      ]
     },
     "execution_count": 44,
     "metadata": {},
     "output_type": "execute_result"
    }
   ],
   "source": [
    "np.array(road)"
   ]
  },
  {
   "cell_type": "code",
   "execution_count": 46,
   "metadata": {},
   "outputs": [
    {
     "data": {
      "image/png": "[encoded data removed]",
      "text/plain": [
       "<Figure size 432x288 with 1 Axes>"
      ]
     },
     "metadata": {
      "needs_background": "light"
     },
     "output_type": "display_data"
    }
   ],
   "source": [
    "import numpy as np\n",
    "import matplotlib.pylab as plt\n",
    "\n",
    "\n",
    "def gradient_descent(f, init_x, lr=0.01, step_num=100):\n",
    "    x = init_x\n",
    "    x_history = []\n",
    "\n",
    "    for i in range(step_num):\n",
    "        x_history.append( x.copy() )\n",
    "\n",
    "        grad = numerical_gradient(f, x)\n",
    "        x -= lr * grad\n",
    "\n",
    "    return x, np.array(x_history)\n",
    "\n",
    "\n",
    "def function_2(x):\n",
    "    return x[0]**2 + x[1]**2\n",
    "\n",
    "init_x = np.array([-3.0, 4.0])    \n",
    "\n",
    "lr = 0.1\n",
    "step_num = 20\n",
    "x, x_history = gradient_descent(function_2, init_x, lr=lr, step_num=step_num)\n",
    "\n",
    "plt.plot( [-5, 5], [0,0], '--b')\n",
    "plt.plot( [0,0], [-5, 5], '--b')\n",
    "plt.plot(x_history[:,0], x_history[:,1], 'o')\n",
    "\n",
    "plt.xlim(-3.5, 3.5)\n",
    "plt.ylim(-4.5, 4.5)\n",
    "plt.xlabel(\"X0\")\n",
    "plt.ylabel(\"X1\")\n",
    "plt.show()\n"
   ]
  },
  {
   "cell_type": "code",
   "execution_count": 51,
   "metadata": {},
   "outputs": [
    {
     "data": {
      "image/png": "[encoded data removed]",
      "text/plain": [
       "<Figure size 432x288 with 1 Axes>"
      ]
     },
     "metadata": {
      "needs_background": "light"
     },
     "output_type": "display_data"
    }
   ],
   "source": [
    "init_x = np.array([-3.0, 4.0])    \n",
    "\n",
    "lr = 1\n",
    "step_num = 20\n",
    "x, x_history = gradient_descent(function_2, init_x, lr=lr, step_num=step_num)\n",
    "\n",
    "plt.plot( [-5, 5], [0,0], '--b')\n",
    "plt.plot( [0,0], [-5, 5], '--b')\n",
    "plt.plot(x_history[:,0], x_history[:,1], 'o')\n",
    "\n",
    "plt.xlim(-3.5, 3.5)\n",
    "plt.ylim(-4.5, 4.5)\n",
    "plt.xlabel(\"X0\")\n",
    "plt.ylabel(\"X1\")\n",
    "plt.show()\n"
   ]
  },
  {
   "cell_type": "code",
   "execution_count": null,
   "metadata": {},
   "outputs": [],
   "source": []
  }
 ],
 "metadata": {
  "kernelspec": {
   "display_name": "Python 3",
   "language": "python",
   "name": "python3"
  },
  "language_info": {
   "codemirror_mode": {
    "name": "ipython",
    "version": 3
   },
   "file_extension": ".py",
   "mimetype": "text/x-python",
   "name": "python",
   "nbconvert_exporter": "python",
   "pygments_lexer": "ipython3",
   "version": "3.8.5"
  },
  "toc": {
   "base_numbering": 1,
   "nav_menu": {},
   "number_sections": true,
   "sideBar": true,
   "skip_h1_title": false,
   "title_cell": "Table of Contents",
   "title_sidebar": "Contents",
   "toc_cell": false,
   "toc_position": {},
   "toc_section_display": true,
   "toc_window_display": false
  },
  "varInspector": {
   "cols": {
    "lenName": 16,
    "lenType": 16,
    "lenVar": 40
   },
   "kernels_config": {
    "python": {
     "delete_cmd_postfix": "",
     "delete_cmd_prefix": "del ",
     "library": "var_list.py",
     "varRefreshCmd": "print(var_dic_list())"
    },
    "r": {
     "delete_cmd_postfix": ") ",
     "delete_cmd_prefix": "rm(",
     "library": "var_list.r",
     "varRefreshCmd": "cat(var_dic_list()) "
    }
   },
   "types_to_exclude": [
    "module",
    "function",
    "builtin_function_or_method",
    "instance",
    "_Feature"
   ],
   "window_display": false
  }
 },
 "nbformat": 4,
 "nbformat_minor": 4
}
